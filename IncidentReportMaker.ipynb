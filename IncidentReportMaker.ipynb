{
 "cells": [
  {
   "cell_type": "code",
   "execution_count": 114,
   "id": "28d76c47",
   "metadata": {
    "pycharm": {
     "name": "#%%\n"
    }
   },
   "outputs": [],
   "source": [
    "#This file aims to produce a real case scenario of an incident report\n",
    "#The report will be wrote into a json file"
   ]
  },
  {
   "cell_type": "code",
   "execution_count": 115,
   "id": "666de771",
   "metadata": {
    "pycharm": {
     "name": "#%%\n"
    }
   },
   "outputs": [],
   "source": [
    "import json\n",
    "import random\n",
    "import numpy as np\n",
    "from Incident import Incident\n",
    "from docplex.mp.model import Model\n",
    "from qiskit import BasicAer\n",
    "from qiskit.utils import QuantumInstance\n",
    "from qiskit.algorithms import QAOA, NumPyMinimumEigensolver\n",
    "from qiskit.utils.algorithm_globals import algorithm_globals\n",
    "from qiskit_optimization.algorithms import MinimumEigenOptimizer, CplexOptimizer\n",
    "from qiskit_optimization import QuadraticProgram\n",
    "from qiskit_optimization.problems.variable import VarType\n",
    "from qiskit_optimization.converters.quadratic_program_to_qubo import QuadraticProgramToQubo\n",
    "from qiskit_optimization.translators import from_docplex_mp\n",
    "import dwave"
   ]
  },
  {
   "cell_type": "code",
   "execution_count": 140,
   "outputs": [],
   "source": [
    "estimated_times = [6,24,8,40,24,8,24,2,6,72,16,8]"
   ],
   "metadata": {
    "collapsed": false,
    "pycharm": {
     "name": "#%%\n"
    }
   }
  },
  {
   "cell_type": "code",
   "execution_count": 116,
   "outputs": [],
   "source": [
    "#First of all, I've to instanciate dictionaries of controls and incidents\n",
    "controls = {\n",
    "    #control_key : [control_name, estimated_time]\n",
    "    1 : [\"Information Backup\", 6],\n",
    "    2 : [\"Capacity Management\", 6],\n",
    "    3 : [\"Off-Site Equipment Security\", 24],\n",
    "    4 : [\"Physical Entry Controls\", 8],\n",
    "    5 : [\"Restriction Of Access To Information\", 40],\n",
    "    6 : [\"Management Of Secret Information Authentication\", 40],\n",
    "    7 : [\"Equipment Maintenance\", 24],\n",
    "    8 : [\"Capacity Management\", 8],\n",
    "    9 : [\"Clock Synchronization\", 2],\n",
    "    11 : [\"Supply Facilities\", 72],\n",
    "    12 : [\"Network Controls\", 8]\n",
    "}"
   ],
   "metadata": {
    "collapsed": false,
    "pycharm": {
     "name": "#%%\n"
    }
   }
  },
  {
   "cell_type": "code",
   "execution_count": 117,
   "id": "4013b0d1",
   "metadata": {
    "scrolled": true,
    "pycharm": {
     "name": "#%%\n"
    }
   },
   "outputs": [],
   "source": [
    "threats = {\n",
    "    #threat_key : [threat_name, control_key1, control_key2, ...]\n",
    "    1 : [\"Denial Of Service\", 1, 2],\n",
    "    2 : [\"Theft\", 3],\n",
    "    3 : [\"Social Engineering\", 4, 6],\n",
    "    4 : [\"Monitoring Errors\", 5, 6],\n",
    "    5 : [\"Failure Of Physical Or Logical Origin\", 7],\n",
    "    6 : [\"System Crashes Due To Resource Exhaustion\", 8],\n",
    "    7 : [\"Abuse Of Access Privileges\", 5],\n",
    "    8 : [\"Configuration Errors\", 9],\n",
    "    9 : [\"Maintenance Errors\", 1],\n",
    "    10 : [\"Inadequate Temperature Or Humidity Conditions\", 11],\n",
    "    11 : [\"Failure Of Communication Services\", 12]\n",
    "}"
   ]
  },
  {
   "cell_type": "code",
   "execution_count": 118,
   "outputs": [],
   "source": [
    "penality = 73"
   ],
   "metadata": {
    "collapsed": false,
    "pycharm": {
     "name": "#%%\n"
    }
   }
  },
  {
   "cell_type": "code",
   "execution_count": 119,
   "id": "ae6beb3b",
   "metadata": {
    "pycharm": {
     "name": "#%%\n"
    }
   },
   "outputs": [
    {
     "name": "stdout",
     "output_type": "stream",
     "text": [
      "threat_id: 1, threat_name: Denial Of Service, control_id: 1, control_name: Information Backup, estimated_time: 6\n",
      "threat_id: 7, threat_name: Abuse Of Access Privileges, control_id: 5, control_name: Restriction Of Access To Information, estimated_time: 40\n",
      "threat_id: 3, threat_name: Social Engineering, control_id: 4, control_name: Physical Entry Controls, estimated_time: 8\n",
      "threat_id: 2, threat_name: Theft, control_id: 3, control_name: Off-Site Equipment Security, estimated_time: 24\n",
      "threat_id: 10, threat_name: Inadequate Temperature Or Humidity Conditions, control_id: 11, control_name: Supply Facilities, estimated_time: 72\n",
      "threat_id: 11, threat_name: Failure Of Communication Services, control_id: 12, control_name: Network Controls, estimated_time: 8\n",
      "threat_id: 1, threat_name: Denial Of Service, control_id: 2, control_name: Capacity Management, estimated_time: 6\n",
      "threat_id: 6, threat_name: System Crashes Due To Resource Exhaustion, control_id: 8, control_name: Capacity Management, estimated_time: 8\n",
      "threat_id: 3, threat_name: Social Engineering, control_id: 6, control_name: Management Of Secret Information Authentication, estimated_time: 40\n",
      "threat_id: 8, threat_name: Configuration Errors, control_id: 9, control_name: Clock Synchronization, estimated_time: 2\n",
      "threat_id: 9, threat_name: Maintenance Errors, control_id: 1, control_name: Information Backup, estimated_time: 6\n",
      "threat_id: 5, threat_name: Failure Of Physical Or Logical Origin, control_id: 7, control_name: Equipment Maintenance, estimated_time: 24\n",
      "threat_id: 4, threat_name: Monitoring Errors, control_id: 5, control_name: Restriction Of Access To Information, estimated_time: 40\n",
      "threat_id: 4, threat_name: Monitoring Errors, control_id: 6, control_name: Management Of Secret Information Authentication, estimated_time: 40\n"
     ]
    }
   ],
   "source": [
    "#Now I've to make the dataset (of 14 incidents)\n",
    "incidents = []\n",
    "for _ in range(14):\n",
    "    threat_key = random.randint(1,11)\n",
    "    threat_list = threats.get(threat_key)\n",
    "    #if the list contains just the threat name, we have to choose another threat\n",
    "    while(len(threat_list) < 2):\n",
    "        threat_key = random.randint(1,11)\n",
    "        threat_list = threats.get(threat_key)\n",
    "    threat_name = threat_list[0]\n",
    "    control_key = threat_list.pop(random.randint(1,len(threat_list)-1))\n",
    "    control_list = controls[control_key]\n",
    "    control_name = control_list[0]\n",
    "    estimated_time = control_list[1]\n",
    "    incident = Incident(threat_key, threat_name, control_key,control_name, estimated_time)\n",
    "    incidents.append(incident)\n",
    "\n",
    "for i in range(len(incidents)):\n",
    "    print(incidents[i])"
   ]
  },
  {
   "cell_type": "code",
   "execution_count": 142,
   "outputs": [
    {
     "name": "stdout",
     "output_type": "stream",
     "text": [
      "Actual affected controls:{1: [1, 9], 5: [4, 7], 4: [3], 3: [2], 11: [10], 12: [11], 2: [1], 8: [6], 6: [3, 4], 9: [8], 7: [5]}\n"
     ]
    }
   ],
   "source": [
    "#mi serve una lista di incidenti per ogni controllo\n",
    "actual_controls = {}\n",
    "for incident in incidents:\n",
    "    control_id = incident.get_control_id()\n",
    "    if actual_controls.keys().__contains__(control_id):\n",
    "        threat_list = actual_controls.get(control_id)\n",
    "        threat_list.append(incident.get_threat_id())\n",
    "        threat_list.sort()\n",
    "    else:\n",
    "        actual_controls[control_id] = [incident.get_threat_id()]\n",
    "\n",
    "print(\"Actual affected controls:\" + str(actual_controls))"
   ],
   "metadata": {
    "collapsed": false,
    "pycharm": {
     "name": "#%%\n"
    }
   }
  },
  {
   "cell_type": "code",
   "execution_count": 121,
   "outputs": [],
   "source": [
    "def create_QUBO_problem(linear_terms,quadratic_terms):\n",
    "    model = Model()\n",
    "\n",
    "    #i nomi delle var lineare saranno x1,...,xn. Rappresentano il tempo stimato per ogni incidente in esame\n",
    "    #x partirà però sempre da 0 (x1 = x[0])\n",
    "    x = [model.binary_var(\"x%s\" % (i)) for i in range(1,len(quadratic_terms)+1)]\n",
    "\n",
    "    #per prima cosa aggiungiamo i bias (diagonale dei valori lineari della matrice)\n",
    "    #bias = estimated_time - penality\n",
    "    #iniziamo con l'aggiunta degli estimated_time\n",
    "    objective = model.sum([linear_terms[i] * x[i] for i in range(len(linear_terms))])\n",
    "\n",
    "    #adesso, per ogni pericolo relativo ai controlli colpiti, sottraiamo la penality\n",
    "    for threat_list in actual_controls.values():\n",
    "        for threat_id in threat_list:\n",
    "            objective2 = model.sum(-penality*x[threat_id-1])\n",
    "            objective += objective2\n",
    "\n",
    "    #aggiungiamo i pesi di accoppiamento (triangolo superiore con i valori quadratici della matrice)\n",
    "    objective += model.sum([((2*quadratic_terms[i, j]) * x[i] * x[j]) for i in range(len(linear_terms)) for j in range(len(quadratic_terms))])\n",
    "\n",
    "    #vogliamo minimizzare l'hamiltoniana\n",
    "    model.minimize(objective)\n",
    "\n",
    "    #convertiamo il modello in un modello QUBO\n",
    "    qubo = from_docplex_mp(model)\n",
    "\n",
    "    cost = model.sum(x)\n",
    "    model.add_constraint(cost == 3)\n",
    "\n",
    "    return qubo"
   ],
   "metadata": {
    "collapsed": false,
    "pycharm": {
     "name": "#%%\n"
    }
   }
  },
  {
   "cell_type": "code",
   "execution_count": 191,
   "outputs": [
    {
     "name": "stdout",
     "output_type": "stream",
     "text": [
      "[ 6 24  8 40 24  8 24  2  6 72 16  8]\n",
      "[[ 0  0  0  0  0  0  0  0 73  0  0  0]\n",
      " [ 0  0  0  0  0  0  0  0  0  0  0  0]\n",
      " [ 0  0  0 73  0  0  0  0  0  0  0  0]\n",
      " [ 0  0  0  0  0  0 73  0  0  0  0  0]\n",
      " [ 0  0  0  0  0  0  0  0  0  0  0  0]\n",
      " [ 0  0  0  0  0  0  0  0  0  0  0  0]\n",
      " [ 0  0  0  0  0  0  0  0  0  0  0  0]\n",
      " [ 0  0  0  0  0  0  0  0  0  0  0  0]\n",
      " [ 0  0  0  0  0  0  0  0  0  0  0  0]\n",
      " [ 0  0  0  0  0  0  0  0  0  0  0  0]\n",
      " [ 0  0  0  0  0  0  0  0  0  0  0  0]\n",
      " [ 0  0  0  0  0  0  0  0  0  0  0  0]]\n"
     ]
    }
   ],
   "source": [
    "#generiamo i termini lineari\n",
    "linear_terms = np.array(estimated_times)\n",
    "\n",
    "#generiamo i termini quadratici\n",
    "quadratic_dictionary = {\n",
    "    1 : [0,0,0,0,0,0,0,0,0,0,0,0],\n",
    "    2 : [0,0,0,0,0,0,0,0,0,0,0,0],\n",
    "    3 : [0,0,0,0,0,0,0,0,0,0,0,0],\n",
    "    4 : [0,0,0,0,0,0,0,0,0,0,0,0],\n",
    "    5 : [0,0,0,0,0,0,0,0,0,0,0,0],\n",
    "    6 : [0,0,0,0,0,0,0,0,0,0,0,0],\n",
    "    7 : [0,0,0,0,0,0,0,0,0,0,0,0],\n",
    "    8 : [0,0,0,0,0,0,0,0,0,0,0,0],\n",
    "    9 : [0,0,0,0,0,0,0,0,0,0,0,0],\n",
    "    10 : [0,0,0,0,0,0,0,0,0,0,0,0],\n",
    "    11 : [0,0,0,0,0,0,0,0,0,0,0,0],\n",
    "    12 : [0,0,0,0,0,0,0,0,0,0,0,0]\n",
    "}\n",
    "for threat_list in actual_controls.values():\n",
    "    for i in threat_list:\n",
    "        for j in threat_list:\n",
    "            if(j>i):\n",
    "                quadratic_dictionary[i][j-1]+=penality\n",
    "\n",
    "quadratic_terms = []\n",
    "for vector in quadratic_dictionary.values():\n",
    "    quadratic_terms.append(vector)\n",
    "quadratic_terms = np.array(quadratic_terms)"
   ],
   "metadata": {
    "collapsed": false,
    "pycharm": {
     "name": "#%%\n"
    }
   }
  },
  {
   "cell_type": "code",
   "execution_count": 192,
   "outputs": [
    {
     "data": {
      "text/plain": "\\ This file has been generated by DOcplex\n\\ ENCODING=ISO-8859-1\n\\Problem name: docplex_model40\n\nMinimize\n obj: - 140 x1 - 49 x2 - 138 x3 - 106 x4 - 49 x5 - 65 x6 - 49 x7 - 71 x8 - 67 x9\n      - x10 - 57 x11 + 8 x12 + [ 292 x1*x9 + 292 x3*x4 + 292 x4*x7 ]/2\nSubject To\n\nBounds\n 0 <= x1 <= 1\n 0 <= x2 <= 1\n 0 <= x3 <= 1\n 0 <= x4 <= 1\n 0 <= x5 <= 1\n 0 <= x6 <= 1\n 0 <= x7 <= 1\n 0 <= x8 <= 1\n 0 <= x9 <= 1\n 0 <= x10 <= 1\n 0 <= x11 <= 1\n 0 <= x12 <= 1\n\nBinaries\n x1 x2 x3 x4 x5 x6 x7 x8 x9 x10 x11 x12\nEnd"
     },
     "execution_count": 192,
     "metadata": {},
     "output_type": "execute_result"
    }
   ],
   "source": [
    "qubo = create_QUBO_problem(linear_terms,quadratic_terms)\n",
    "qubo"
   ],
   "metadata": {
    "collapsed": false,
    "pycharm": {
     "name": "#%%\n"
    }
   }
  },
  {
   "cell_type": "code",
   "execution_count": 123,
   "outputs": [],
   "source": [],
   "metadata": {
    "collapsed": false,
    "pycharm": {
     "name": "#%%\n"
    }
   }
  }
 ],
 "metadata": {
  "kernelspec": {
   "display_name": "Python 3 (ipykernel)",
   "language": "python",
   "name": "python3"
  },
  "language_info": {
   "codemirror_mode": {
    "name": "ipython",
    "version": 3
   },
   "file_extension": ".py",
   "mimetype": "text/x-python",
   "name": "python",
   "nbconvert_exporter": "python",
   "pygments_lexer": "ipython3",
   "version": "3.9.7"
  }
 },
 "nbformat": 4,
 "nbformat_minor": 5
}