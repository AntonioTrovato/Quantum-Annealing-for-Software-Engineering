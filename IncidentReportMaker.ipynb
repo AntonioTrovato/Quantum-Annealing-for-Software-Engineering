{
 "cells": [
  {
   "cell_type": "code",
   "execution_count": 52,
   "id": "28d76c47",
   "metadata": {},
   "outputs": [],
   "source": [
    "#This file aims to produce a real case scenario of an incident report\n",
    "#The report will be wrote into a json file"
   ]
  },
  {
   "cell_type": "code",
   "execution_count": 77,
   "id": "666de771",
   "metadata": {},
   "outputs": [],
   "source": [
    "import json\n",
    "import random\n",
    "import numpy as np\n",
    "from Incident import Incident\n",
    "from docplex.mp.model import Model\n",
    "from qiskit import BasicAer\n",
    "from qiskit.utils import QuantumInstance\n",
    "from qiskit.algorithms import QAOA, NumPyMinimumEigensolver\n",
    "from qiskit.utils.algorithm_globals import algorithm_globals\n",
    "from qiskit_optimization.algorithms import MinimumEigenOptimizer, CplexOptimizer\n",
    "from qiskit_optimization import QuadraticProgram\n",
    "from qiskit_optimization.problems.variable import VarType\n",
    "from qiskit_optimization.converters.quadratic_program_to_qubo import QuadraticProgramToQubo\n",
    "from qiskit_optimization.translators import from_docplex_mp\n",
    "import dwave"
   ]
  },
  {
   "cell_type": "code",
   "execution_count": 54,
   "outputs": [],
   "source": [
    "#First of all, I've to instanciate dictionaries of controls and incidents\n",
    "controls = {\n",
    "    #control_key : [control_name, estimated_time]\n",
    "    1 : [\"Information Backup\", 6],\n",
    "    2 : [\"Capacity Management\", 6],\n",
    "    3 : [\"Off-Site Equipment Security\", 24],\n",
    "    4 : [\"Physical Entry Controls\", 8],\n",
    "    5 : [\"Restriction Of Access To Information\", 40],\n",
    "    6 : [\"Management Of Secret Information Authentication\", 40],\n",
    "    7 : [\"Equipment Maintenance\", 24],\n",
    "    8 : [\"Capacity Management\", 8],\n",
    "    9 : [\"Clock Synchronization\", 2],\n",
    "    10 : [\"Information Backups\", 6],\n",
    "    11 : [\"Supply Facilities\", 72],\n",
    "    12 : [\"Network Controls\", 8]\n",
    "}"
   ],
   "metadata": {
    "collapsed": false,
    "pycharm": {
     "name": "#%%\n"
    }
   }
  },
  {
   "cell_type": "code",
   "execution_count": 55,
   "id": "4013b0d1",
   "metadata": {
    "scrolled": true
   },
   "outputs": [],
   "source": [
    "threats = {\n",
    "    #threat_key : [threat_name, control_key1, control_key2, ...]\n",
    "    1 : [\"Denial Of Service\", 1, 2],\n",
    "    2 : [\"Theft\", 3],\n",
    "    3 : [\"Social Engineering\", 4, 6],\n",
    "    4 : [\"Monitoring Errors\", 5, 6],\n",
    "    5 : [\"Failure Of Physical Or Logical Origin\", 7],\n",
    "    6 : [\"System Crashes Due To Resource Exhaustion\", 8],\n",
    "    7 : [\"Abuse Of Access Privileges\", 5],\n",
    "    8 : [\"Configuration Errors\", 9],\n",
    "    9 : [\"Maintenance Errors\", 10],\n",
    "    10 : [\"Inadequate Temperature Or Humidity Conditions\", 11],\n",
    "    11 : [\"Failure Of Communication Services\", 12]\n",
    "}"
   ]
  },
  {
   "cell_type": "code",
   "execution_count": 56,
   "outputs": [],
   "source": [
    "penality = 73"
   ],
   "metadata": {
    "collapsed": false,
    "pycharm": {
     "name": "#%%\n"
    }
   }
  },
  {
   "cell_type": "code",
   "execution_count": 57,
   "id": "ae6beb3b",
   "metadata": {},
   "outputs": [
    {
     "name": "stdout",
     "output_type": "stream",
     "text": [
      "threat_id: 5, threat_name: Failure Of Physical Or Logical Origin, control_id: 7, control_name: Equipment Maintenance, estimated_time: 24\n",
      "threat_id: 11, threat_name: Failure Of Communication Services, control_id: 12, control_name: Network Controls, estimated_time: 8\n",
      "threat_id: 2, threat_name: Theft, control_id: 3, control_name: Off-Site Equipment Security, estimated_time: 24\n",
      "threat_id: 1, threat_name: Denial Of Service, control_id: 2, control_name: Capacity Management, estimated_time: 6\n",
      "threat_id: 7, threat_name: Abuse Of Access Privileges, control_id: 5, control_name: Restriction Of Access To Information, estimated_time: 40\n",
      "threat_id: 9, threat_name: Maintenance Errors, control_id: 10, control_name: Information Backups, estimated_time: 6\n",
      "threat_id: 6, threat_name: System Crashes Due To Resource Exhaustion, control_id: 8, control_name: Capacity Management, estimated_time: 8\n",
      "threat_id: 1, threat_name: Denial Of Service, control_id: 1, control_name: Information Backup, estimated_time: 6\n",
      "threat_id: 3, threat_name: Social Engineering, control_id: 6, control_name: Management Of Secret Information Authentication, estimated_time: 40\n",
      "threat_id: 3, threat_name: Social Engineering, control_id: 4, control_name: Physical Entry Controls, estimated_time: 8\n",
      "threat_id: 4, threat_name: Monitoring Errors, control_id: 5, control_name: Restriction Of Access To Information, estimated_time: 40\n",
      "threat_id: 4, threat_name: Monitoring Errors, control_id: 6, control_name: Management Of Secret Information Authentication, estimated_time: 40\n",
      "threat_id: 8, threat_name: Configuration Errors, control_id: 9, control_name: Clock Synchronization, estimated_time: 2\n",
      "threat_id: 10, threat_name: Inadequate Temperature Or Humidity Conditions, control_id: 11, control_name: Supply Facilities, estimated_time: 72\n"
     ]
    }
   ],
   "source": [
    "#Now I've to make the dataset (of 14 incidents)\n",
    "incidents = []\n",
    "for _ in range(14):\n",
    "    threat_key = random.randint(1,11)\n",
    "    threat_list = threats.get(threat_key)\n",
    "    #if the list contains just the threat name, we have to choose another threat\n",
    "    while(len(threat_list) < 2):\n",
    "        threat_key = random.randint(1,11)\n",
    "        threat_list = threats.get(threat_key)\n",
    "    threat_name = threat_list[0]\n",
    "    control_key = threat_list.pop(random.randint(1,len(threat_list)-1))\n",
    "    control_list = controls[control_key]\n",
    "    control_name = control_list[0]\n",
    "    estimated_time = control_list[1]\n",
    "    incident = Incident(threat_key, threat_name, control_key,control_name, estimated_time)\n",
    "    incidents.append(incident)\n",
    "\n",
    "for i in range(len(incidents)):\n",
    "    print(incidents[i])"
   ]
  },
  {
   "cell_type": "code",
   "execution_count": 66,
   "outputs": [],
   "source": [
    "def create_QUBO_problem(linear_terms,quadratic_terms):\n",
    "    model = Model()\n",
    "\n",
    "    #i nomi delle var lineare saranno xt1,...,xtn. Rappresentano il tempo stimato per ogni incidente in esame\n",
    "    x = [model.binary_var(\"xt%s\" % (i+1)) for i in range(len(quadratic_terms))]\n",
    "\n",
    "    #togli la penalità al termine xti\n",
    "    objective = (- penality) + model.sum([linear_terms[i] * x[i] for i in range(len(linear_terms))])\n",
    "    #aggiungi il doppio della penalità agli incidenti con controlli comuni\n",
    "    objective += (2 * penality) + model.sum(\n",
    "        [quadratic_terms[i, j] * x[i] * x[j] for i in range(len(linear_terms)) for j in range(len(quadratic_terms))]\n",
    "    )\n",
    "\n",
    "    #vogliamo minimizzare l'hamiltoniana\n",
    "    model.minimize(objective)\n",
    "\n",
    "    #convertiamo il modello in un modello QUBO\n",
    "    qubo = from_docplex_mp(model)\n",
    "\n",
    "    cost = model.sum(x)\n",
    "    model.add_constraint(cost == 3)\n",
    "\n",
    "    return qubo"
   ],
   "metadata": {
    "collapsed": false,
    "pycharm": {
     "name": "#%%\n"
    }
   }
  },
  {
   "cell_type": "code",
   "execution_count": 67,
   "outputs": [],
   "source": [
    "linear_terms = np.array([0,0,8,40,24,8,24,0,0,72,16,8])\n",
    "quadratic_terms = np.array([\n",
    "    [0,0,0,0,0,0,0,0,0,0,0,0],\n",
    "    [0,0,0,0,0,0,0,0,0,0,0,0],\n",
    "    [0,0,0,0,0,0,0,0,0,0,0,0],\n",
    "    [0,0,0,0,0,0,0,0,0,0,73,0],\n",
    "    [0,0,0,0,0,0,0,0,0,0,0,0],\n",
    "    [0,0,0,0,0,0,0,0,0,0,0,0],\n",
    "    [0,0,0,0,0,0,0,0,0,0,0,0],\n",
    "    [0,0,0,0,0,0,0,0,0,0,0,0],\n",
    "    [0,0,0,0,0,0,0,0,0,0,0,0],\n",
    "    [0,0,0,0,0,0,0,0,0,0,0,0],\n",
    "    [0,0,0,0,0,0,0,0,0,0,0,0],\n",
    "    [0,0,0,0,0,0,0,0,0,0,0,0]\n",
    "])"
   ],
   "metadata": {
    "collapsed": false,
    "pycharm": {
     "name": "#%%\n"
    }
   }
  },
  {
   "cell_type": "code",
   "execution_count": 68,
   "outputs": [
    {
     "data": {
      "text/plain": "\\ This file has been generated by DOcplex\n\\ ENCODING=ISO-8859-1\n\\Problem name: docplex_model12\n\nMinimize\n obj: 8 xt3 + 40 xt4 + 24 xt5 + 8 xt6 + 24 xt7 + 72 xt10 + 16 xt11 + 8 xt12 + [\n      146 xt4*xt11 ]/2 + 73\nSubject To\n\nBounds\n 0 <= xt1 <= 1\n 0 <= xt2 <= 1\n 0 <= xt3 <= 1\n 0 <= xt4 <= 1\n 0 <= xt5 <= 1\n 0 <= xt6 <= 1\n 0 <= xt7 <= 1\n 0 <= xt8 <= 1\n 0 <= xt9 <= 1\n 0 <= xt10 <= 1\n 0 <= xt11 <= 1\n 0 <= xt12 <= 1\n\nBinaries\n xt1 xt2 xt3 xt4 xt5 xt6 xt7 xt8 xt9 xt10 xt11 xt12\nEnd"
     },
     "execution_count": 68,
     "metadata": {},
     "output_type": "execute_result"
    }
   ],
   "source": [
    "qubo = create_QUBO_problem(linear_terms,quadratic_terms)\n",
    "qubo"
   ],
   "metadata": {
    "collapsed": false,
    "pycharm": {
     "name": "#%%\n"
    }
   }
  }
 ],
 "metadata": {
  "kernelspec": {
   "display_name": "Python 3 (ipykernel)",
   "language": "python",
   "name": "python3"
  },
  "language_info": {
   "codemirror_mode": {
    "name": "ipython",
    "version": 3
   },
   "file_extension": ".py",
   "mimetype": "text/x-python",
   "name": "python",
   "nbconvert_exporter": "python",
   "pygments_lexer": "ipython3",
   "version": "3.9.7"
  }
 },
 "nbformat": 4,
 "nbformat_minor": 5
}