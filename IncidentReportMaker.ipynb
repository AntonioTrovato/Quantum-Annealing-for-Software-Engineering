{
 "cells": [
  {
   "cell_type": "code",
   "execution_count": null,
   "id": "28d76c47",
   "metadata": {},
   "outputs": [],
   "source": [
    "#This file aims to produce a real case scenario of an incident report\n",
    "#The report will be wrote into a json file"
   ]
  },
  {
   "cell_type": "code",
   "execution_count": 1,
   "id": "666de771",
   "metadata": {},
   "outputs": [],
   "source": [
    "import json\n",
    "import random\n",
    "from Incident import Incident"
   ]
  },
  {
   "cell_type": "code",
   "execution_count": 2,
   "outputs": [],
   "source": [
    "#First of all, I've to instanciate dictionaries of controls and incidents\n",
    "controls = {\n",
    "    #control_key : [control_name, estimated_time]\n",
    "    1 : [\"Information Backup\", 6],\n",
    "    2 : [\"Capacity Management\", 6],\n",
    "    3 : [\"Off-Site Equipment Security\", 24],\n",
    "    4 : [\"Physical Entry Controls\", 8],\n",
    "    5 : [\"Restriction Of Access To Information\", 40],\n",
    "    6 : [\"Management Of Secret Information Authentication\", 40],\n",
    "    7 : [\"Equipment Maintenance\", 24],\n",
    "    8 : [\"Capacity Management\", 8],\n",
    "    9 : [\"Clock Synchronization\", 2],\n",
    "    10 : [\"Information Backups\", 6],\n",
    "    11 : [\"Supply Facilities\", 72],\n",
    "    12 : [\"Network Controls\", 8]\n",
    "}"
   ],
   "metadata": {
    "collapsed": false,
    "pycharm": {
     "name": "#%%\n"
    }
   }
  },
  {
   "cell_type": "code",
   "execution_count": 3,
   "id": "4013b0d1",
   "metadata": {
    "scrolled": true
   },
   "outputs": [],
   "source": [
    "threats = {\n",
    "    #threat_key : [threat_name, control_key1, control_key2, ...]\n",
    "    1 : [\"Denial Of Service\", 1, 2],\n",
    "    2 : [\"Theft\", 3],\n",
    "    3 : [\"Social Engineering\", 4, 6],\n",
    "    4 : [\"Monitoring Errors\", 5, 6],\n",
    "    5 : [\"Failure Of Physical Or Logical Origin\", 7],\n",
    "    6 : [\"System Crashes Due To Resource Exhaustion\", 8],\n",
    "    7 : [\"Abuse Of Access Privileges\", 5],\n",
    "    8 : [\"Configuration Errors\", 9],\n",
    "    9 : [\"Maintenance Errors\", 10],\n",
    "    10 : [\"Inadequate Temperature Or Humidity Conditions\", 11],\n",
    "    11 : [\"Failure Of Communication Services\", 12]\n",
    "}"
   ]
  },
  {
   "cell_type": "code",
   "execution_count": 4,
   "id": "ae6beb3b",
   "metadata": {},
   "outputs": [
    {
     "name": "stdout",
     "output_type": "stream",
     "text": [
      "threat_id: 8, threat_name: Configuration Errors, control_id: 9, control_name: Clock Synchronization, estimated_time: 2\n",
      "threat_id: 10, threat_name: Inadequate Temperature Or Humidity Conditions, control_id: 11, control_name: Supply Facilities, estimated_time: 72\n",
      "threat_id: 2, threat_name: Theft, control_id: 3, control_name: Off-Site Equipment Security, estimated_time: 24\n",
      "threat_id: 6, threat_name: System Crashes Due To Resource Exhaustion, control_id: 8, control_name: Capacity Management, estimated_time: 8\n",
      "threat_id: 4, threat_name: Monitoring Errors, control_id: 6, control_name: Management Of Secret Information Authentication, estimated_time: 40\n",
      "threat_id: 8, threat_name: Configuration Errors, control_id: 9, control_name: Clock Synchronization, estimated_time: 2\n",
      "threat_id: 8, threat_name: Configuration Errors, control_id: 9, control_name: Clock Synchronization, estimated_time: 2\n",
      "threat_id: 7, threat_name: Abuse Of Access Privileges, control_id: 5, control_name: Restriction Of Access To Information, estimated_time: 40\n",
      "threat_id: 6, threat_name: System Crashes Due To Resource Exhaustion, control_id: 8, control_name: Capacity Management, estimated_time: 8\n",
      "threat_id: 2, threat_name: Theft, control_id: 3, control_name: Off-Site Equipment Security, estimated_time: 24\n",
      "threat_id: 7, threat_name: Abuse Of Access Privileges, control_id: 5, control_name: Restriction Of Access To Information, estimated_time: 40\n",
      "threat_id: 8, threat_name: Configuration Errors, control_id: 9, control_name: Clock Synchronization, estimated_time: 2\n",
      "threat_id: 1, threat_name: Denial Of Service, control_id: 1, control_name: Information Backup, estimated_time: 6\n",
      "threat_id: 1, threat_name: Denial Of Service, control_id: 2, control_name: Capacity Management, estimated_time: 6\n"
     ]
    }
   ],
   "source": [
    "#Now I've to make the dataset (of 14 incidents)\n",
    "incidents = []\n",
    "for _ in range(14):\n",
    "    threat_key = random.randint(1,11)\n",
    "    threat_list = threats.get(threat_key)\n",
    "    #if the list contains just the threat name, we have to choose another threat\n",
    "    while(len(threat_list) < 2):\n",
    "        threat_key = random.randint(1,11)\n",
    "        threat_list = threats.get(threat_key)\n",
    "    threat_name = threat_list[0]\n",
    "    control_key = threat_list[random.randint(1,len(threat_list)-1)]\n",
    "    control_list = controls[control_key]\n",
    "    control_name = control_list[0]\n",
    "    estimated_time = control_list[1]\n",
    "    incident = Incident(threat_key, threat_name, control_key,control_name, estimated_time)\n",
    "    incidents.append(incident)\n",
    "\n",
    "for i in range(len(incidents)):\n",
    "    print(incidents[i])"
   ]
  },
  {
   "cell_type": "code",
   "execution_count": 7,
   "outputs": [
    {
     "name": "stdout",
     "output_type": "stream",
     "text": [
      "[\n",
      "   {\n",
      "      \"threat_id\": 8,\n",
      "      \"threat_name\": \"Configuration Errors\",\n",
      "      \"control_id\": 9,\n",
      "      \"control_name\": \"Clock Synchronization\",\n",
      "      \"estimated_time\": 2\n",
      "   },\n",
      "   {\n",
      "      \"threat_id\": 10,\n",
      "      \"threat_name\": \"Inadequate Temperature Or Humidity Conditions\",\n",
      "      \"control_id\": 11,\n",
      "      \"control_name\": \"Supply Facilities\",\n",
      "      \"estimated_time\": 72\n",
      "   },\n",
      "   {\n",
      "      \"threat_id\": 2,\n",
      "      \"threat_name\": \"Theft\",\n",
      "      \"control_id\": 3,\n",
      "      \"control_name\": \"Off-Site Equipment Security\",\n",
      "      \"estimated_time\": 24\n",
      "   },\n",
      "   {\n",
      "      \"threat_id\": 6,\n",
      "      \"threat_name\": \"System Crashes Due To Resource Exhaustion\",\n",
      "      \"control_id\": 8,\n",
      "      \"control_name\": \"Capacity Management\",\n",
      "      \"estimated_time\": 8\n",
      "   },\n",
      "   {\n",
      "      \"threat_id\": 4,\n",
      "      \"threat_name\": \"Monitoring Errors\",\n",
      "      \"control_id\": 6,\n",
      "      \"control_name\": \"Management Of Secret Information Authentication\",\n",
      "      \"estimated_time\": 40\n",
      "   },\n",
      "   {\n",
      "      \"threat_id\": 8,\n",
      "      \"threat_name\": \"Configuration Errors\",\n",
      "      \"control_id\": 9,\n",
      "      \"control_name\": \"Clock Synchronization\",\n",
      "      \"estimated_time\": 2\n",
      "   },\n",
      "   {\n",
      "      \"threat_id\": 8,\n",
      "      \"threat_name\": \"Configuration Errors\",\n",
      "      \"control_id\": 9,\n",
      "      \"control_name\": \"Clock Synchronization\",\n",
      "      \"estimated_time\": 2\n",
      "   },\n",
      "   {\n",
      "      \"threat_id\": 7,\n",
      "      \"threat_name\": \"Abuse Of Access Privileges\",\n",
      "      \"control_id\": 5,\n",
      "      \"control_name\": \"Restriction Of Access To Information\",\n",
      "      \"estimated_time\": 40\n",
      "   },\n",
      "   {\n",
      "      \"threat_id\": 6,\n",
      "      \"threat_name\": \"System Crashes Due To Resource Exhaustion\",\n",
      "      \"control_id\": 8,\n",
      "      \"control_name\": \"Capacity Management\",\n",
      "      \"estimated_time\": 8\n",
      "   },\n",
      "   {\n",
      "      \"threat_id\": 2,\n",
      "      \"threat_name\": \"Theft\",\n",
      "      \"control_id\": 3,\n",
      "      \"control_name\": \"Off-Site Equipment Security\",\n",
      "      \"estimated_time\": 24\n",
      "   },\n",
      "   {\n",
      "      \"threat_id\": 7,\n",
      "      \"threat_name\": \"Abuse Of Access Privileges\",\n",
      "      \"control_id\": 5,\n",
      "      \"control_name\": \"Restriction Of Access To Information\",\n",
      "      \"estimated_time\": 40\n",
      "   },\n",
      "   {\n",
      "      \"threat_id\": 8,\n",
      "      \"threat_name\": \"Configuration Errors\",\n",
      "      \"control_id\": 9,\n",
      "      \"control_name\": \"Clock Synchronization\",\n",
      "      \"estimated_time\": 2\n",
      "   },\n",
      "   {\n",
      "      \"threat_id\": 1,\n",
      "      \"threat_name\": \"Denial Of Service\",\n",
      "      \"control_id\": 1,\n",
      "      \"control_name\": \"Information Backup\",\n",
      "      \"estimated_time\": 6\n",
      "   },\n",
      "   {\n",
      "      \"threat_id\": 1,\n",
      "      \"threat_name\": \"Denial Of Service\",\n",
      "      \"control_id\": 2,\n",
      "      \"control_name\": \"Capacity Management\",\n",
      "      \"estimated_time\": 6\n",
      "   }\n",
      "]\n"
     ]
    }
   ],
   "source": [
    "#Now I've to write a json string into a file to communicate the report to the QUBO Matrix maker\n",
    "json_string = json.dumps([incident.dump() for incident in incidents], indent=3)\n",
    "#print(json_string)"
   ],
   "metadata": {
    "collapsed": false,
    "pycharm": {
     "name": "#%%\n"
    }
   }
  },
  {
   "cell_type": "code",
   "execution_count": 8,
   "outputs": [],
   "source": [
    "json_file = open(\"incidents_report.txt\", \"a\")\n",
    "json_file.write(json_string)\n",
    "json_file.close()"
   ],
   "metadata": {
    "collapsed": false,
    "pycharm": {
     "name": "#%%\n"
    }
   }
  }
 ],
 "metadata": {
  "kernelspec": {
   "display_name": "Python 3 (ipykernel)",
   "language": "python",
   "name": "python3"
  },
  "language_info": {
   "codemirror_mode": {
    "name": "ipython",
    "version": 3
   },
   "file_extension": ".py",
   "mimetype": "text/x-python",
   "name": "python",
   "nbconvert_exporter": "python",
   "pygments_lexer": "ipython3",
   "version": "3.9.7"
  }
 },
 "nbformat": 4,
 "nbformat_minor": 5
}