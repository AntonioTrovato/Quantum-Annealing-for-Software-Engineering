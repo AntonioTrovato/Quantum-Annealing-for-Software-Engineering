{
 "cells": [
  {
   "cell_type": "code",
   "execution_count": null,
   "metadata": {
    "collapsed": true,
    "pycharm": {
     "name": "#%%\n"
    }
   },
   "outputs": [],
   "source": [
    "#This file aims to produce a real case scenario of an incident report\n",
    "#The report will be wrote into a json file"
   ]
  },
  {
   "cell_type": "code",
   "execution_count": null,
   "outputs": [],
   "source": [
    "import random\n",
    "import numpy as np\n",
    "from Incident import Incident\n",
    "from qiskit import BasicAer\n",
    "from qiskit.utils import algorithm_globals\n",
    "from qiskit.optimization import QuadraticProgram\n",
    "from qiskit.optimization.algorithms import MinimumEigenOptimizer\n",
    "from qiskit.aqua import QuantumInstance\n",
    "from qiskit.aqua.algorithms import QAOA"
   ],
   "metadata": {
    "collapsed": false,
    "pycharm": {
     "name": "#%%\n"
    }
   }
  },
  {
   "cell_type": "code",
   "execution_count": null,
   "outputs": [],
   "source": [
    "#First of all, I've to instanciate dictionaries of controls and incidents\n",
    "controls = {\n",
    "    #control_key : control_name\n",
    "    1 : \"Information Backup\",\n",
    "    2 : \"Capacity Management\",\n",
    "    3 : \"Off-Site Equipment Security\",\n",
    "    4 : \"Physical Entry Controls\",\n",
    "    5 : \"Restriction Of Access To Information\",\n",
    "    6 : \"Management Of Secret Information Authentication\",\n",
    "    7 : \"Equipment Maintenance\",\n",
    "    8 : \"Clock Synchronization\",\n",
    "    9 : \"Supply Facilities\",\n",
    "    10 : \"Secret authentication and information management\",\n",
    "    11 : \"Network Controls\"\n",
    "}"
   ],
   "metadata": {
    "collapsed": false,
    "pycharm": {
     "name": "#%%\n"
    }
   }
  },
  {
   "cell_type": "code",
   "execution_count": null,
   "outputs": [],
   "source": [
    "threats = {\n",
    "    #threat_key : [threat_name, control_key1, control_key2, ...]\n",
    "    1 : [\"Denial Of Service\", 1, 2],\n",
    "    2 : [\"Theft\", 3],\n",
    "    3 : [\"Social Engineering\", 4, 10],\n",
    "    4 : [\"Monitoring Errors\", 5, 6],\n",
    "    5 : [\"Failure Of Physical Or Logical Origin\", 7],\n",
    "    6 : [\"System Crashes Due To Resource Exhaustion\", 2],\n",
    "    7 : [\"Abuse Of Access Privileges\", 5],\n",
    "    8 : [\"Configuration Errors\", 8],\n",
    "    9 : [\"Maintenance Errors\", 1],\n",
    "    10 : [\"Inadequate Temperature Or Humidity Conditions\", 9],\n",
    "    11 : [\"Failure Of Communication Services\", 11]\n",
    "}\n",
    "\n",
    "#the list of estimated time of resolution\n",
    "estimated_times = [6,24,8,40,24,8,24,2,6,72,8]"
   ],
   "metadata": {
    "collapsed": false,
    "pycharm": {
     "name": "#%%\n"
    }
   }
  },
  {
   "cell_type": "code",
   "execution_count": null,
   "outputs": [],
   "source": [
    "#penality = max(estimated_times)+1\n",
    "penality = 73"
   ],
   "metadata": {
    "collapsed": false,
    "pycharm": {
     "name": "#%%\n"
    }
   }
  },
  {
   "cell_type": "code",
   "execution_count": null,
   "outputs": [],
   "source": [
    "#Now I've to make the dataset (of 14 incidents)\n",
    "incidents = []\n",
    "for _ in range(14):\n",
    "    threat_key = random.randint(1,11)\n",
    "    threat_list = threats.get(threat_key)\n",
    "    #if the list contains just the threat name, we have to choose another threat\n",
    "    while(len(threat_list) < 2):\n",
    "        threat_key = random.randint(1,11)\n",
    "        threat_list = threats.get(threat_key)\n",
    "    threat_name = threat_list[0]\n",
    "    control_key = threat_list.pop(random.randint(1,len(threat_list)-1))\n",
    "    control_name = controls[control_key]\n",
    "    estimated_time = estimated_times[threat_key-1]\n",
    "    incident = Incident(threat_key, threat_name, control_key,control_name, estimated_time)\n",
    "    incidents.append(incident)\n",
    "\n",
    "for i in range(len(incidents)):\n",
    "    print(incidents[i])"
   ],
   "metadata": {
    "collapsed": false,
    "pycharm": {
     "name": "#%%\n"
    }
   }
  },
  {
   "cell_type": "code",
   "execution_count": null,
   "outputs": [],
   "source": [
    "#I need to know the ffected controls\n",
    "actual_controls = {}\n",
    "for incident in incidents:\n",
    "    control_id = incident.get_control_id()\n",
    "    if actual_controls.keys().__contains__(control_id):\n",
    "        threat_list = actual_controls.get(control_id)\n",
    "        threat_list.append(incident.get_threat_id())\n",
    "        threat_list.sort()\n",
    "    else:\n",
    "        actual_controls[control_id] = [incident.get_threat_id()]\n",
    "\n",
    "print(\"Actual affected controls:\" + str(actual_controls))"
   ],
   "metadata": {
    "collapsed": false,
    "pycharm": {
     "name": "#%%\n"
    }
   }
  },
  {
   "cell_type": "code",
   "execution_count": null,
   "outputs": [],
   "source": [
    "def create_QUBO_problem(linear_terms,quadratic_terms):\n",
    "    qubo = QuadraticProgram()\n",
    "    for i in range(1,len(linear_terms)+1):\n",
    "        qubo.binary_var('x%s' % (i))\n",
    "\n",
    "    #apply the penality for each linear term\n",
    "    for threat_list in actual_controls.values():\n",
    "        for threat_id in threat_list:\n",
    "            linear_terms[threat_id-1] -= 73\n",
    "\n",
    "    qubo.minimize(linear=linear_terms,quadratic=quadratic_terms)\n",
    "\n",
    "    return qubo"
   ],
   "metadata": {
    "collapsed": false,
    "pycharm": {
     "name": "#%%\n"
    }
   }
  },
  {
   "cell_type": "code",
   "execution_count": null,
   "outputs": [],
   "source": [
    "#generating the linear terms (biases)\n",
    "linear_terms = np.array(estimated_times)\n",
    "\n",
    "#dclaring a dictrionary for the quadratic terms (coupling weights)\n",
    "quadratic = {}\n",
    "\n",
    "#filling the dictionary\n",
    "for threat_list in actual_controls.values():\n",
    "    for i in threat_list:\n",
    "        for j in threat_list:\n",
    "            if(j>i):\n",
    "                try:\n",
    "                    quadratic[i,j] += 2*penality\n",
    "                except:\n",
    "                    quadratic[i,j] = 2*penality\n",
    "print(\"LINEAR:\"+str(linear_terms))\n",
    "print(\"QUADRATIC:\"+str(quadratic))"
   ],
   "metadata": {
    "collapsed": false,
    "pycharm": {
     "name": "#%%\n"
    }
   }
  },
  {
   "cell_type": "code",
   "execution_count": null,
   "outputs": [],
   "source": [
    "qubo = create_QUBO_problem(linear_terms,quadratic)\n",
    "print(qubo)"
   ],
   "metadata": {
    "collapsed": false,
    "pycharm": {
     "name": "#%%\n"
    }
   }
  },
  {
   "cell_type": "code",
   "execution_count": null,
   "outputs": [],
   "source": [
    "#inizializing the optimizer\n",
    "algorithm_globals.random_seed = 10598\n",
    "\n",
    "quantum_instance = QuantumInstance(\n",
    "    BasicAer.get_backend(\"statevector_simulator\"),\n",
    "    seed_simulator=algorithm_globals.random_seed,\n",
    "    seed_transpiler=algorithm_globals.random_seed,\n",
    ")\n",
    "\n",
    "qaoa_mes = QAOA(quantum_instance=quantum_instance, initial_point=[0.0, 0.0])"
   ],
   "metadata": {
    "collapsed": false,
    "pycharm": {
     "name": "#%%\n"
    }
   }
  },
  {
   "cell_type": "code",
   "execution_count": null,
   "outputs": [],
   "source": [
    "#using the minimum eigen solver to istanciate the minimum eigen optimizer\n",
    "qaoa = MinimumEigenOptimizer(qaoa_mes)"
   ],
   "metadata": {
    "collapsed": false,
    "pycharm": {
     "name": "#%%\n"
    }
   }
  },
  {
   "cell_type": "code",
   "execution_count": null,
   "outputs": [],
   "source": [
    "qaoa_result = qaoa.solve(qubo)\n",
    "print(qaoa_result)"
   ],
   "metadata": {
    "collapsed": false,
    "pycharm": {
     "name": "#%%\n"
    }
   }
  },
  {
   "cell_type": "code",
   "execution_count": null,
   "outputs": [],
   "source": [
    "print(\"QUBO variable order:\", [var.name for var in qaoa_result.variables])\n",
    "for s in qaoa_result.samples:\n",
    "    print(s)"
   ],
   "metadata": {
    "collapsed": false,
    "pycharm": {
     "name": "#%%\n"
    }
   }
  }
 ],
 "metadata": {
  "kernelspec": {
   "display_name": "Python 3",
   "language": "python",
   "name": "python3"
  },
  "language_info": {
   "codemirror_mode": {
    "name": "ipython",
    "version": 2
   },
   "file_extension": ".py",
   "mimetype": "text/x-python",
   "name": "python",
   "nbconvert_exporter": "python",
   "pygments_lexer": "ipython2",
   "version": "2.7.6"
  }
 },
 "nbformat": 4,
 "nbformat_minor": 0
}